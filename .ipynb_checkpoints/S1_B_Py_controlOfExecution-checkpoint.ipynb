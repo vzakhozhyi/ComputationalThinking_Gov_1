{
 "cells": [
  {
   "cell_type": "markdown",
   "metadata": {},
   "source": [
    "<center><img src=\"http://i.imgur.com/sSaOozN.png\" width=\"500\"></center>"
   ]
  },
  {
   "cell_type": "markdown",
   "metadata": {},
   "source": [
    "## Course: Computational Thinking for Governance Analytics\n",
    "\n",
    "### Prof. José Manuel Magallanes, PhD \n",
    "* Visiting Professor of Computational Policy at Evans School of Public Policy and Governance, and eScience Institute Senior Data Science Fellow, University of Washington.\n",
    "* Professor of Government and Political Methodology, Pontificia Universidad Católica del Perú. \n",
    "\n",
    "_____\n",
    "\n",
    "# Session 1:  Programming Fundamentals\n",
    "\n",
    "## Part B: Control of Execution in Python"
   ]
  },
  {
   "cell_type": "markdown",
   "metadata": {},
   "source": [
    "<a id='beginning'></a>\n",
    "\n",
    "You can  not be an effective programmer, if you can not master the concept of control of execution when writing a code. I will introduce three main schemes:\n",
    "\n",
    "1. [Conditional Execution.](#part1) \n",
    "2. [Loops.](#part2) \n",
    "3. [Error Handling.](#part3) \n",
    "\n",
    "I will also introduce the concept of **[comprehensions](#comprehension)** that Python supports (but not R).\n",
    "\n",
    "----"
   ]
  },
  {
   "cell_type": "markdown",
   "metadata": {},
   "source": [
    "<a id='part1'></a> \n",
    "## Conditional Execution"
   ]
  },
  {
   "cell_type": "markdown",
   "metadata": {},
   "source": [
    "This is how you tell the computer what part of a code to execute depending if an event is true or false."
   ]
  },
  {
   "cell_type": "code",
   "execution_count": 1,
   "metadata": {},
   "outputs": [
    {
     "name": "stdout",
     "output_type": "stream",
     "text": [
      "Sorry, I do not compute square roots of negative numbers\n"
     ]
    }
   ],
   "source": [
    "from math import sqrt\n",
    "\n",
    "value=-100\n",
    "\n",
    "#condition\n",
    "if value >= 0: \n",
    "    # what to do if condition is true:\n",
    "    rootValue=sqrt(value)\n",
    "    print (rootValue)\n",
    "else:\n",
    "    # what to do if condition is false:\n",
    "    print('Sorry, I do not compute square roots of negative numbers')"
   ]
  },
  {
   "cell_type": "markdown",
   "metadata": {},
   "source": [
    "Notice the condition follows *if* immediately. Notice also the use of **indentation** to indicate a group of instructions under the effect of the condition. This is very different from *R*. If you omitted the whole **else** section, the program will still run, but it will neither send any message nor value when the input is invalid.\n",
    "\n",
    "When condition is complex, besides using **&**/**|**/**~** as in pandas, you can use  **and** / **or** / **not**:"
   ]
  },
  {
   "cell_type": "code",
   "execution_count": 2,
   "metadata": {},
   "outputs": [
    {
     "name": "stdout",
     "output_type": "stream",
     "text": [
      "This is an even number less than 11\n"
     ]
    }
   ],
   "source": [
    "value=8\n",
    "\n",
    "if (value <= 10) & (value%2==0) : \n",
    "    print('This is an even number less than 11')\n",
    "elif (value <= 10) & (value%2>0) : \n",
    "    print('This is an odd number less than 11')\n",
    "elif (value > 10) & (value%2>0) : \n",
    "    print('This is an odd number greater than 10')\n",
    "else:\n",
    "    print('This is an even number greater than 10')"
   ]
  },
  {
   "cell_type": "code",
   "execution_count": 3,
   "metadata": {},
   "outputs": [
    {
     "name": "stdout",
     "output_type": "stream",
     "text": [
      "This is an even number less than 11\n"
     ]
    }
   ],
   "source": [
    "value=8\n",
    "\n",
    "if value <= 10 and value%2==0 : \n",
    "    print('This is an even number less than 11')\n",
    "elif value <= 10 and value%2>0 : \n",
    "    print('This is an odd number less than 11')\n",
    "elif value > 10 and value%2>0 : \n",
    "    print('This is an odd number greater than 10')\n",
    "else:\n",
    "    print('This is an even number greater than 10')"
   ]
  },
  {
   "cell_type": "markdown",
   "metadata": {},
   "source": [
    "Notice what happens if you do not use parenthesis with the '&' (or that family)"
   ]
  },
  {
   "cell_type": "code",
   "execution_count": 4,
   "metadata": {},
   "outputs": [
    {
     "name": "stdout",
     "output_type": "stream",
     "text": [
      "This is an even number greater than 10\n"
     ]
    }
   ],
   "source": [
    "value=8\n",
    "\n",
    "if value <= 10 & value%2==0 : \n",
    "    print('This is an even number less than 11')\n",
    "elif value <= 10 & value%2>0: \n",
    "    print('This is an odd number less than 11')\n",
    "elif value > 10 & value%2>0: \n",
    "    print('This is an odd number greater than 10')\n",
    "else:\n",
    "    print('This is an even number greater than 10')"
   ]
  },
  {
   "cell_type": "markdown",
   "metadata": {},
   "source": [
    "[Go to page beginning](#beginning)\n",
    "\n",
    "----"
   ]
  },
  {
   "cell_type": "markdown",
   "metadata": {},
   "source": [
    "<a id='part2'></a> \n",
    "\n",
    "## Loops"
   ]
  },
  {
   "cell_type": "markdown",
   "metadata": {},
   "source": [
    "This is how you tell the computer to do something many times (and to stop when it has to):"
   ]
  },
  {
   "cell_type": "code",
   "execution_count": 5,
   "metadata": {},
   "outputs": [
    {
     "name": "stdout",
     "output_type": "stream",
     "text": [
      "3.0\n",
      "5.0\n",
      "10.0\n"
     ]
    }
   ],
   "source": [
    "from math import sqrt  # no need for this in R\n",
    "\n",
    "values=[9,25,100]\n",
    "\n",
    "for value in values:  # for each value in values...\n",
    "    print(sqrt(value)) # do this"
   ]
  },
  {
   "cell_type": "markdown",
   "metadata": {},
   "source": [
    "Notice that Python does not have a *sqrt* function in its base. The package **math** took care of that.\n",
    "\n",
    "You do not need to show each result, you could save the results."
   ]
  },
  {
   "cell_type": "code",
   "execution_count": 6,
   "metadata": {},
   "outputs": [
    {
     "data": {
      "text/plain": [
       "[3.0, 5.0, 10.0]"
      ]
     },
     "execution_count": 6,
     "metadata": {},
     "output_type": "execute_result"
    }
   ],
   "source": [
    "values=[9,25,100]\n",
    "rootValues=[] # empty list, we will populate it later!\n",
    "\n",
    "for value in values:\n",
    "    rootValues.append(sqrt(value))  # appending an element to the list (populating the list)\n",
    "\n",
    "# This list started empty, now see what its elements are:\n",
    "rootValues"
   ]
  },
  {
   "cell_type": "markdown",
   "metadata": {},
   "source": [
    "It is evident that combining *loops* and *conditonals* we can make better programs. This code is NOT controlling well the process:"
   ]
  },
  {
   "cell_type": "code",
   "execution_count": null,
   "metadata": {},
   "outputs": [],
   "source": [
    "values=[9,25,-100]\n",
    "rootValues=[]\n",
    "\n",
    "for value in values:\n",
    "    rootValues.append(sqrt(value))\n",
    "\n",
    "# to see the results:\n",
    "rootValues"
   ]
  },
  {
   "cell_type": "markdown",
   "metadata": {},
   "source": [
    "Above, you saw that Python gives an error ('ValueError'), it is because _sqrt_ is not defined for negative values; then the process ended abruptly. The code below controls the execution better:"
   ]
  },
  {
   "cell_type": "code",
   "execution_count": null,
   "metadata": {},
   "outputs": [],
   "source": [
    "values=[9,25,-100]\n",
    "rootValues=[]\n",
    "\n",
    "for value in values:\n",
    "    if value >=0:\n",
    "        rootValues.append(sqrt(value))\n",
    "    else:\n",
    "        print('We added a missing value (None) when we received a negative input')\n",
    "        rootValues.append(None)\n",
    "        \n",
    "# to see the results:\n",
    "rootValues"
   ]
  },
  {
   "cell_type": "markdown",
   "metadata": {},
   "source": [
    "We are producing an output with the same size as input. If we omit the **else** structure, we will produce an output with smaller size than the input. \n",
    "\n",
    "You can also use **break** when you consider the execution should stop:"
   ]
  },
  {
   "cell_type": "code",
   "execution_count": null,
   "metadata": {},
   "outputs": [],
   "source": [
    "values=[9,25,-100,144,-72]\n",
    "rootValues=[]\n",
    "\n",
    "for value in values:\n",
    "    # checking the value:\n",
    "    if value <0:\n",
    "        print('We need to stop, invalid value detected')\n",
    "        break\n",
    "    # you will get here if the value is not negative\n",
    "    rootValues.append(sqrt(value))\n",
    "        \n",
    "\n",
    "# to see the results:\n",
    "rootValues"
   ]
  },
  {
   "cell_type": "markdown",
   "metadata": {},
   "source": [
    "The code above halted the program."
   ]
  },
  {
   "cell_type": "markdown",
   "metadata": {},
   "source": [
    "You can use **continue** when you consider the execution should not halt:"
   ]
  },
  {
   "cell_type": "code",
   "execution_count": null,
   "metadata": {},
   "outputs": [],
   "source": [
    "import numpy as np\n",
    "\n",
    "values=[9,None,np.nan, '1000',-100, 144,-72]\n",
    "for value in values: # notice the order of 'IFs'\n",
    "    if value==None: # condition1\n",
    "        print ('missing values as input')\n",
    "        continue\n",
    "    if isinstance(value, str): #condition2\n",
    "        print ('string as input')\n",
    "        continue\n",
    "    if value < 0: # condition3\n",
    "        print ('negative value as input')\n",
    "        continue\n",
    "    print (sqrt(value), 'is the root of ',value)            "
   ]
  },
  {
   "cell_type": "markdown",
   "metadata": {},
   "source": [
    "The _None_ and _NAN_ have a different nature:"
   ]
  },
  {
   "cell_type": "code",
   "execution_count": null,
   "metadata": {},
   "outputs": [],
   "source": [
    "type(None),type(np.nan)"
   ]
  },
  {
   "cell_type": "markdown",
   "metadata": {},
   "source": [
    "You use both values to denote a missing value, but NAN is common in structures containing only numbers, while None in any structure. Becareful when doing math:"
   ]
  },
  {
   "cell_type": "code",
   "execution_count": null,
   "metadata": {},
   "outputs": [],
   "source": [
    "10 + None"
   ]
  },
  {
   "cell_type": "markdown",
   "metadata": {},
   "source": [
    "In the previous case, Python complains because '+' can not be used to add those two different data types. It is like trying this:"
   ]
  },
  {
   "cell_type": "code",
   "execution_count": null,
   "metadata": {},
   "outputs": [],
   "source": [
    "10 + '10'"
   ]
  },
  {
   "cell_type": "markdown",
   "metadata": {},
   "source": [
    "As previously mentioned, nan is used with numerical data to denote missing values, so this operation is allowed:"
   ]
  },
  {
   "cell_type": "code",
   "execution_count": null,
   "metadata": {},
   "outputs": [],
   "source": [
    "10 + np.nan"
   ]
  },
  {
   "cell_type": "markdown",
   "metadata": {},
   "source": [
    "\n",
    "_Loops_ are also needed when you want to count the presence of a particular value:"
   ]
  },
  {
   "cell_type": "code",
   "execution_count": null,
   "metadata": {},
   "outputs": [],
   "source": [
    "values=[9,25,-100,144,-72]\n",
    "\n",
    "counterOfInvalids=0 # counter \n",
    "\n",
    "for value in values:\n",
    "    if value <0:\n",
    "        counterOfInvalids +=1 #updating counter\n",
    "\n",
    "# to see the results:\n",
    "counterOfInvalids"
   ]
  },
  {
   "cell_type": "markdown",
   "metadata": {},
   "source": [
    "You may want to save particular positions (here is another difference with R):"
   ]
  },
  {
   "cell_type": "code",
   "execution_count": null,
   "metadata": {},
   "outputs": [],
   "source": [
    "values=[9,25,-100,144,-72]\n",
    "positionInvalids=[]\n",
    "currentPosition=0 # ithis is the 'accumulator' initial position\n",
    "\n",
    "for value in values:\n",
    "    if value <0:\n",
    "        positionInvalids.append(currentPosition)\n",
    "    currentPosition+=1 # becareful where you put the 'accumulator'\n",
    "\n",
    "# to see the results:\n",
    "positionInvalids "
   ]
  },
  {
   "cell_type": "code",
   "execution_count": null,
   "metadata": {},
   "outputs": [],
   "source": [
    "# testing:\n",
    "for pos in positionInvalids:\n",
    "    print (values[pos])"
   ]
  },
  {
   "cell_type": "markdown",
   "metadata": {},
   "source": [
    "If you have boolean values, you can profit by using boolean operators:"
   ]
  },
  {
   "cell_type": "code",
   "execution_count": null,
   "metadata": {},
   "outputs": [],
   "source": [
    "bvalues=[True,False,True,True]\n",
    "\n",
    "for element in bvalues:\n",
    "    if element:\n",
    "        print('this guy is True')"
   ]
  },
  {
   "cell_type": "code",
   "execution_count": null,
   "metadata": {},
   "outputs": [],
   "source": [
    "bvalues=[True,False,True,True]\n",
    "\n",
    "for element in bvalues:\n",
    "    print (element)\n",
    "    if element:\n",
    "        print('this guy is True',type(element))"
   ]
  },
  {
   "cell_type": "markdown",
   "metadata": {},
   "source": [
    "Notice this are not boolean:"
   ]
  },
  {
   "cell_type": "code",
   "execution_count": null,
   "metadata": {},
   "outputs": [],
   "source": [
    "# this is wrong\n",
    "for element in bvalues:\n",
    "    if ~element:\n",
    "        print('this guy is True')"
   ]
  },
  {
   "cell_type": "code",
   "execution_count": null,
   "metadata": {},
   "outputs": [],
   "source": [
    "for element in bvalues:\n",
    "    print (element)\n",
    "    if ~element:\n",
    "        print('this guy is True',~element,type(~element))"
   ]
  },
  {
   "cell_type": "code",
   "execution_count": null,
   "metadata": {},
   "outputs": [],
   "source": [
    "# this is wrong\n",
    "for element in bvalues:\n",
    "    if !element:\n",
    "        print('this guy is True')"
   ]
  },
  {
   "cell_type": "markdown",
   "metadata": {},
   "source": [
    "\n",
    "[Go to page beginning](#beginning)\n",
    "\n",
    "----"
   ]
  },
  {
   "cell_type": "markdown",
   "metadata": {},
   "source": [
    "<a id='part3'></a> \n",
    "\n",
    "## Error Handling"
   ]
  },
  {
   "cell_type": "markdown",
   "metadata": {},
   "source": [
    "We have controlled errors before, using *if-else*; however, Python has particular functions to take care of that:"
   ]
  },
  {
   "cell_type": "code",
   "execution_count": null,
   "metadata": {},
   "outputs": [],
   "source": [
    "# what kind of error you get:\n",
    "print (sqrt(-10))"
   ]
  },
  {
   "cell_type": "code",
   "execution_count": null,
   "metadata": {},
   "outputs": [],
   "source": [
    "# what kind of error you get:\n",
    "print (sqrt('10'))"
   ]
  },
  {
   "cell_type": "markdown",
   "metadata": {},
   "source": [
    "Python is giving different types of **errors** (*Type* and *Value*), let's use that:"
   ]
  },
  {
   "cell_type": "code",
   "execution_count": null,
   "metadata": {},
   "outputs": [],
   "source": [
    "values=[10,-10,'10']"
   ]
  },
  {
   "cell_type": "code",
   "execution_count": null,
   "metadata": {},
   "outputs": [],
   "source": [
    "for value in values:\n",
    "    try:\n",
    "        print (sqrt(value))\n",
    "    except ValueError:\n",
    "        print (value,'is a Wrong number!')\n",
    "    except TypeError:\n",
    "        print (value,'is Not even a number!!')\n",
    "        "
   ]
  },
  {
   "cell_type": "markdown",
   "metadata": {},
   "source": [
    "[Go to page beginning](#beginning)\n",
    "____"
   ]
  },
  {
   "cell_type": "markdown",
   "metadata": {},
   "source": [
    "<a id='comprehension'></a>\n",
    "### Comprehensions\n",
    "\n",
    "Python has implemented ways to create data structures using a technique called comprehensions (R can not do that)."
   ]
  },
  {
   "cell_type": "markdown",
   "metadata": {},
   "source": [
    "As lists are mutable, this operation is creating a list on the run."
   ]
  },
  {
   "cell_type": "code",
   "execution_count": 7,
   "metadata": {},
   "outputs": [
    {
     "data": {
      "text/plain": [
       "[3.0, 5.0, 7.0, 11.0]"
      ]
     },
     "execution_count": 7,
     "metadata": {},
     "output_type": "execute_result"
    }
   ],
   "source": [
    "from math import sqrt\n",
    "\n",
    "values=[9,25,49,121]\n",
    "rootsInList=[sqrt(value) for value in values]  #List comprehension\n",
    "rootsInList"
   ]
  },
  {
   "cell_type": "markdown",
   "metadata": {},
   "source": [
    "As tuples are immutable,  this operation is not creating a tuple on the run. We are in fact generating values that will later become a tuple."
   ]
  },
  {
   "cell_type": "code",
   "execution_count": 8,
   "metadata": {},
   "outputs": [
    {
     "data": {
      "text/plain": [
       "(3.0, 5.0, 7.0)"
      ]
     },
     "execution_count": 8,
     "metadata": {},
     "output_type": "execute_result"
    }
   ],
   "source": [
    "values=[9,25,49,-121]\n",
    "rootsInTuple=tuple(sqrt(value) for value in values if value > 0)  #tuple comprehension\n",
    "rootsInTuple"
   ]
  },
  {
   "cell_type": "markdown",
   "metadata": {},
   "source": [
    "Dicts can also be created that way:"
   ]
  },
  {
   "cell_type": "code",
   "execution_count": null,
   "metadata": {},
   "outputs": [],
   "source": [
    "values=[9,25,49,-121]\n",
    "rootsInDict={value:(sqrt(value) if value > 0 else None) for value in values}  #Dic comprehension\n",
    "rootsInDict"
   ]
  },
  {
   "cell_type": "markdown",
   "metadata": {},
   "source": [
    "When you have a dict as input in comprehensions you can visit its values using _items()_ like this:"
   ]
  },
  {
   "cell_type": "code",
   "execution_count": null,
   "metadata": {},
   "outputs": [],
   "source": [
    "newDict={'name':'John', 'age':40, 'State':'WA'}\n",
    "[[key,value] for key,value in newDict.items()]"
   ]
  },
  {
   "cell_type": "markdown",
   "metadata": {},
   "source": [
    "The function **zip** allows you to create tuples using parallel association:"
   ]
  },
  {
   "cell_type": "code",
   "execution_count": null,
   "metadata": {},
   "outputs": [],
   "source": [
    "letters=['a','b','c']\n",
    "numbers=[10,20,30]\n",
    "list(zip(letters,numbers))"
   ]
  },
  {
   "cell_type": "markdown",
   "metadata": {},
   "source": [
    "_Zipped_ lists are common in comprehensions:"
   ]
  },
  {
   "cell_type": "code",
   "execution_count": null,
   "metadata": {},
   "outputs": [],
   "source": [
    "[(number,double) for number,double in zip(numbers,np.array(numbers)**2)]"
   ]
  },
  {
   "cell_type": "markdown",
   "metadata": {},
   "source": [
    "## Class exercises:\n",
    "\n",
    "Make a function that:\n",
    "\n",
    "1. Create a data frame with this:"
   ]
  },
  {
   "cell_type": "markdown",
   "metadata": {},
   "source": [
    "2. Create a list of tuples, where each tuple is a pair (name,country), using comprehensions"
   ]
  },
  {
   "cell_type": "code",
   "execution_count": 9,
   "metadata": {},
   "outputs": [],
   "source": [
    "names=[\"Tomás\", \"Pauline\", \"Pablo\", \"Bjork\",\"Alan\",\"Juana\"]\n",
    "woman=[False,True,False,False,False,True]\n",
    "ages=[32,33,28,30,32,27]\n",
    "country=[\"Chile\", \"Senegal\", \"Spain\", \"Norway\",\"Peru\",\"Peru\"]\n",
    "education=[\"Bach\", \"Bach\", \"Master\", \"PhD\",\"Bach\",\"Master\"]"
   ]
  },
  {
   "cell_type": "markdown",
   "metadata": {},
   "source": [
    "3. Implement a _for_ loop to count how many peruvian there are in the data frame. Try using **not** in one solution and **~** in another one."
   ]
  },
  {
   "cell_type": "markdown",
   "metadata": {},
   "source": [
    "4. Implement a _for_ loop to get the count of men. Try using **not** in one solution and **~** in another one."
   ]
  },
  {
   "cell_type": "markdown",
   "metadata": {},
   "source": [
    "Solve this in a new Jupyter notebook, and then upload it to GitHub. Name the notebook as 'ex_controlOfEx'."
   ]
  },
  {
   "cell_type": "markdown",
   "metadata": {},
   "source": [
    "## Homework"
   ]
  },
  {
   "cell_type": "markdown",
   "metadata": {},
   "source": [
    "1. Implement a _for_ loop to get the count of men that have a Bach degree in the data frame. I recommend the use of **zip** (somwehere)"
   ]
  },
  {
   "cell_type": "markdown",
   "metadata": {},
   "source": [
    "2. Implement a _for_ loop to get the count of people whose current age is an even number."
   ]
  },
  {
   "cell_type": "markdown",
   "metadata": {},
   "source": [
    "Solve this in a new Jupyter notebook, and then upload it to GitHub. Name the notebook as 'hw_controlOfEx'."
   ]
  },
  {
   "cell_type": "markdown",
   "metadata": {},
   "source": [
    "_____\n",
    "\n",
    "* [Go to page beginning](#beginning)\n",
    "* [Go to REPO in Github](https://github.com/EvansDataScience/ComputationalThinking_Gov_1)\n",
    "* [Go to Course schedule](https://evansdatascience.github.io/GovernanceAnalytics/)"
   ]
  }
 ],
 "metadata": {
  "anaconda-cloud": {},
  "hide_input": false,
  "kernelspec": {
   "display_name": "Python 3",
   "language": "python",
   "name": "python3"
  },
  "language_info": {
   "codemirror_mode": {
    "name": "ipython",
    "version": 3
   },
   "file_extension": ".py",
   "mimetype": "text/x-python",
   "name": "python",
   "nbconvert_exporter": "python",
   "pygments_lexer": "ipython3",
   "version": "3.7.1"
  }
 },
 "nbformat": 4,
 "nbformat_minor": 1
}
