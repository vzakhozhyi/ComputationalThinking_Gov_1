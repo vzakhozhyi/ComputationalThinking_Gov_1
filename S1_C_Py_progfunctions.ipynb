{
 "cells": [
  {
   "cell_type": "markdown",
   "metadata": {},
   "source": [
    "<center><img src=\"http://i.imgur.com/sSaOozN.png\" width=\"500\"></center>"
   ]
  },
  {
   "cell_type": "markdown",
   "metadata": {},
   "source": [
    "## Course: Computational Thinking for Governance Analytics\n",
    "\n",
    "### Prof. José Manuel Magallanes, PhD \n",
    "* Visiting Professor of Computational Policy at Evans School of Public Policy and Governance, and eScience Institute Senior Data Science Fellow, University of Washington.\n",
    "* Professor of Government and Political Methodology, Pontificia Universidad Católica del Perú. \n",
    "\n",
    "_____\n",
    "\n",
    "# Session 1:  Programming Fundamentals\n",
    "## Part C: Building Functions in Python"
   ]
  },
  {
   "cell_type": "markdown",
   "metadata": {},
   "source": [
    "We build functions to make the code more readable. Functions, plus the data structures and control of execution capabilities you saw before, will give you the basic tools you need to develop programs.\n",
    "\n",
    "A function is a three-step process: Input, Transformation, Output. For example, if you need to convert a numeric value from Fahrenheit into Celsius , the input is the value in Fahrenheit, the transformation is the formula, and the output the result of the formula (a value in Celsius)."
   ]
  },
  {
   "cell_type": "code",
   "execution_count": null,
   "metadata": {},
   "outputs": [],
   "source": [
    "def converterToCelsius(valueInFarenheit): #input\n",
    "    #transformation\n",
    "    resultInCelsius= (valueInFarenheit-32)*5/9\n",
    "    #output\n",
    "    return resultInCelsius"
   ]
  },
  {
   "cell_type": "markdown",
   "metadata": {},
   "source": [
    "From above, creating functions in Python requires the use of **def** followed by the name of the function; the function arguments continue between parenthesis. The process comes after the _colon_, notice that _identation_ is needed. The command **return** serves to give the output. For Python, there is a new function available:"
   ]
  },
  {
   "cell_type": "code",
   "execution_count": null,
   "metadata": {},
   "outputs": [],
   "source": [
    "converterToCelsius(100)"
   ]
  },
  {
   "cell_type": "markdown",
   "metadata": {},
   "source": [
    "<a id='beginning'></a>\n",
    "This session will be organized on the following topics:\n",
    "\n",
    "1. [Input components.](#part1) \n",
    "2. [Output organization.](#part2) \n",
    "3. Applying functions\n",
    "    + [to simple structures.](#part3) \n",
    "    + [to composite structures.](#part4) \n"
   ]
  },
  {
   "cell_type": "markdown",
   "metadata": {},
   "source": [
    "\n",
    "____\n",
    "\n",
    "<a id='part1'></a>\n",
    "\n",
    "## The function input\n",
    "We control the amount of input in a function:"
   ]
  },
  {
   "cell_type": "code",
   "execution_count": null,
   "metadata": {},
   "outputs": [],
   "source": [
    "# this function requires TWO inputs:\n",
    "def XsumY(valueX,valueY):\n",
    "    ###\n",
    "    resultSum=valueX+valueY\n",
    "    ###\n",
    "    return resultSum"
   ]
  },
  {
   "cell_type": "markdown",
   "metadata": {},
   "source": [
    "The code above receives two values and outputs their sum. You can see how it works this way:"
   ]
  },
  {
   "cell_type": "code",
   "execution_count": null,
   "metadata": {},
   "outputs": [],
   "source": [
    "XsumY(3,10)"
   ]
  },
  {
   "cell_type": "markdown",
   "metadata": {},
   "source": [
    "The next function uses two inputs and one of them has a *default* value:"
   ]
  },
  {
   "cell_type": "code",
   "execution_count": null,
   "metadata": {},
   "outputs": [],
   "source": [
    "def riseToPower(base,exponent=2): # two argument names!!!\n",
    "    ###\n",
    "    result=1\n",
    "    if exponent > 0:\n",
    "        for time in range(1,exponent+1): # use 'exponent + 1'...!\n",
    "            result=result*base\n",
    "    ###\n",
    "    return(result)"
   ]
  },
  {
   "cell_type": "markdown",
   "metadata": {},
   "source": [
    "Since you have a default value in the input arguments, you decide if you give that input or not. Let’s see how it works:"
   ]
  },
  {
   "cell_type": "code",
   "execution_count": null,
   "metadata": {},
   "outputs": [],
   "source": [
    "riseToPower(9)"
   ]
  },
  {
   "cell_type": "code",
   "execution_count": null,
   "metadata": {},
   "outputs": [],
   "source": [
    "riseToPower(9,3)"
   ]
  },
  {
   "cell_type": "code",
   "execution_count": null,
   "metadata": {},
   "outputs": [],
   "source": [
    "riseToPower(9,0)"
   ]
  },
  {
   "cell_type": "code",
   "execution_count": null,
   "metadata": {},
   "outputs": [],
   "source": [
    "# for sure you can use the arguments name:\n",
    "riseToPower(base=9,exponent=0)"
   ]
  },
  {
   "cell_type": "code",
   "execution_count": null,
   "metadata": {},
   "outputs": [],
   "source": [
    "# using arguments names does not require order:\n",
    "riseToPower(exponent=0,base=9)"
   ]
  },
  {
   "cell_type": "markdown",
   "metadata": {},
   "source": [
    "### Homework:  \n",
    "\n",
    "Change the above function to create the function **riseToPowerPlus**, which gives a good answer even when the power is negative.\n",
    "\n",
    "____"
   ]
  },
  {
   "cell_type": "markdown",
   "metadata": {},
   "source": [
    "Functions need argument names in the input definition, but if you have many arguments, you need to keep the order. However, Python offers two additional ways to input **several arguments**. First, let me know what happens when we divide by zero:"
   ]
  },
  {
   "cell_type": "code",
   "execution_count": null,
   "metadata": {},
   "outputs": [],
   "source": [
    "3/0"
   ]
  },
  {
   "cell_type": "code",
   "execution_count": null,
   "metadata": {},
   "outputs": [],
   "source": [
    "# Then\n",
    "def divRounded(numerator,denominator,precision=2):\n",
    "    try:\n",
    "        result = numerator/denominator\n",
    "        return round(result, precision)\n",
    "    except ZeroDivisionError:\n",
    "        print('You can not use 0 as the denominator')       "
   ]
  },
  {
   "cell_type": "code",
   "execution_count": null,
   "metadata": {},
   "outputs": [],
   "source": [
    "# testing:\n",
    "n=13\n",
    "d=12\n",
    "p=5\n",
    "divRounded(n,d,p)"
   ]
  },
  {
   "cell_type": "markdown",
   "metadata": {},
   "source": [
    "A different approach would be to use a list or tuple with the arguments, the function requires ONE '*':"
   ]
  },
  {
   "cell_type": "code",
   "execution_count": null,
   "metadata": {},
   "outputs": [],
   "source": [
    "inputArgs=[13,12,5] # order matters, keep it.\n",
    "divRounded(*inputArgs)"
   ]
  },
  {
   "cell_type": "markdown",
   "metadata": {},
   "source": [
    "A dict can be very useful, just use TWO '*':"
   ]
  },
  {
   "cell_type": "code",
   "execution_count": null,
   "metadata": {},
   "outputs": [],
   "source": [
    "inputArgs={'numerator':13, 'precision':5,'denominator':12} # order does not matter\n",
    "divRounded(**inputArgs)"
   ]
  },
  {
   "cell_type": "markdown",
   "metadata": {},
   "source": [
    "[Go to page beginning](#beginning)\n",
    "____\n",
    "\n",
    "<a id='part2'></a>\n",
    "\n",
    "## The function output"
   ]
  },
  {
   "cell_type": "markdown",
   "metadata": {},
   "source": [
    "Our output has been a single value, but it can be several ones; however, you need the right structure."
   ]
  },
  {
   "cell_type": "code",
   "execution_count": null,
   "metadata": {},
   "outputs": [],
   "source": [
    "# one input, and several output in simple data structure:\n",
    "def factors(number):\n",
    "    factorsList=[] # empty list that will collect output\n",
    "    \n",
    "    for i in range(1, number + 1):\n",
    "        #if the remainder of 'number'/'i' equals zero...\n",
    "        if number % i == 0:\n",
    "            # ...add 'i' to the list of factors!\n",
    "            factorsList.append(i)\n",
    "\n",
    "    return factorsList # returning  values in a list."
   ]
  },
  {
   "cell_type": "code",
   "execution_count": null,
   "metadata": {},
   "outputs": [],
   "source": [
    "factors(20) "
   ]
  },
  {
   "cell_type": "markdown",
   "metadata": {},
   "source": [
    "### Homework:  \n",
    "\n",
    "Change the function ’factors’to reduce the amount of iterations in the for loop and still get the factors shown above."
   ]
  },
  {
   "cell_type": "markdown",
   "metadata": {},
   "source": [
    "In this next case, you can have several input, and get an output organized in a more complex structure (a data frame):"
   ]
  },
  {
   "cell_type": "code",
   "execution_count": null,
   "metadata": {},
   "outputs": [],
   "source": [
    "# several input, a composite data structure:\n",
    "def powerDF(aList,power=2):\n",
    "    import pandas as pd\n",
    "    # list comprehension\n",
    "    powerList=[val**power for val in aList]\n",
    "    # both lists into a dict:\n",
    "    answerAsDicts={'number':aList,'power'+str(power):powerList}\n",
    "    # data frame is created, and that is returned:\n",
    "    return pd.DataFrame(answerAsDicts)"
   ]
  },
  {
   "cell_type": "code",
   "execution_count": null,
   "metadata": {},
   "outputs": [],
   "source": [
    "powerDF(factors(10),3)"
   ]
  },
  {
   "cell_type": "code",
   "execution_count": null,
   "metadata": {},
   "outputs": [],
   "source": [
    "# of course, this works:\n",
    "valsDict={'aList':factors(10), 'power':3}\n",
    "powerDF(**valsDict)"
   ]
  },
  {
   "cell_type": "markdown",
   "metadata": {},
   "source": [
    "### Homework:\n",
    "Make a function that reads two lists and returns a data frame with those lists and extra columns with their sum, difference, multiplication and division."
   ]
  },
  {
   "cell_type": "markdown",
   "metadata": {},
   "source": [
    "[Go to page beginning](#beginning)\n",
    "\n",
    "____\n",
    "<a id='part3'></a>\n",
    "\n",
    "## Applying functions to simple structures"
   ]
  },
  {
   "cell_type": "markdown",
   "metadata": {},
   "source": [
    "Imaging you have created a function that converts a value like:"
   ]
  },
  {
   "cell_type": "code",
   "execution_count": null,
   "metadata": {},
   "outputs": [],
   "source": [
    "def double(x):\n",
    "    return 2*x"
   ]
  },
  {
   "cell_type": "markdown",
   "metadata": {},
   "source": [
    "and you have this list:"
   ]
  },
  {
   "cell_type": "code",
   "execution_count": null,
   "metadata": {},
   "outputs": [],
   "source": [
    "myList=[1,2,3]"
   ]
  },
  {
   "cell_type": "markdown",
   "metadata": {},
   "source": [
    "What can you get here?"
   ]
  },
  {
   "cell_type": "code",
   "execution_count": null,
   "metadata": {},
   "outputs": [],
   "source": [
    "double(myList)"
   ]
  },
  {
   "cell_type": "markdown",
   "metadata": {},
   "source": [
    "I bet you wanted something like this:"
   ]
  },
  {
   "cell_type": "code",
   "execution_count": null,
   "metadata": {},
   "outputs": [],
   "source": [
    "map(double,myList)"
   ]
  },
  {
   "cell_type": "markdown",
   "metadata": {},
   "source": [
    "You just see an strange result!...Well Python did do what you need, but you can't see it because it returned an **iterator**. Do this then:"
   ]
  },
  {
   "cell_type": "code",
   "execution_count": null,
   "metadata": {},
   "outputs": [],
   "source": [
    "list(map(double,myList))"
   ]
  },
  {
   "cell_type": "markdown",
   "metadata": {},
   "source": [
    "With **map** you can apply the function to every element of the list."
   ]
  },
  {
   "cell_type": "markdown",
   "metadata": {},
   "source": [
    "Easy functions can be written using **lambda** notation:"
   ]
  },
  {
   "cell_type": "code",
   "execution_count": null,
   "metadata": {},
   "outputs": [],
   "source": [
    "double2=lambda x: 2*x\n",
    "list(map(double2,myList))"
   ]
  },
  {
   "cell_type": "markdown",
   "metadata": {},
   "source": [
    "You can use these functions to create filters:"
   ]
  },
  {
   "cell_type": "code",
   "execution_count": null,
   "metadata": {},
   "outputs": [],
   "source": [
    "drinkingAge= lambda x: x >= 21"
   ]
  },
  {
   "cell_type": "code",
   "execution_count": null,
   "metadata": {},
   "outputs": [],
   "source": [
    "agesList=[12,34,56,19,24,13]\n",
    "list(filter(drinkingAge,agesList))"
   ]
  },
  {
   "cell_type": "markdown",
   "metadata": {},
   "source": [
    "In the last line above, you filtered the original vector agesVals by combining **filter** and _drinkingAge_, the filtering works by selecting the values that have TRUE in the output of drinkingAge."
   ]
  },
  {
   "cell_type": "markdown",
   "metadata": {},
   "source": [
    "[Go to page beginning](#beginning)\n",
    "\n",
    "____\n",
    "<a id='part4'></a>\n",
    "\n",
    "## Applying functions to composite structures"
   ]
  },
  {
   "cell_type": "markdown",
   "metadata": {},
   "source": [
    "We will be using data frames often. This is a particular structure that has its **own** mechanism to apply functions:"
   ]
  },
  {
   "cell_type": "code",
   "execution_count": null,
   "metadata": {},
   "outputs": [],
   "source": [
    "#Creating data frame\n",
    "import pandas as pd\n",
    "data={'numberA':[10,20,30,4,5],'numberB':[6,7,8,9,10]}\n",
    "dataDF=pd.DataFrame(data)\n",
    "dataDF"
   ]
  },
  {
   "cell_type": "markdown",
   "metadata": {},
   "source": [
    "Now applying function _double_ to it:"
   ]
  },
  {
   "cell_type": "code",
   "execution_count": null,
   "metadata": {},
   "outputs": [],
   "source": [
    "double(dataDF)"
   ]
  },
  {
   "cell_type": "markdown",
   "metadata": {},
   "source": [
    "The function at the element level worked well, that is because the columns (which came from a list) are now arrays."
   ]
  },
  {
   "cell_type": "markdown",
   "metadata": {},
   "source": [
    "However, often you need to put more effort to make functions work in pandas. The function **apply** is very important to use a function in a data frame in pandas:"
   ]
  },
  {
   "cell_type": "code",
   "execution_count": null,
   "metadata": {},
   "outputs": [],
   "source": [
    "# this will double each element column-wise\n",
    "dataDF.apply(double,axis=0)"
   ]
  },
  {
   "cell_type": "code",
   "execution_count": null,
   "metadata": {},
   "outputs": [],
   "source": [
    "# this will double each element row-wise\n",
    "dataDF.apply(double,axis=1)"
   ]
  },
  {
   "cell_type": "markdown",
   "metadata": {},
   "source": [
    "The axis argument tells in what direction the function should be applied. Double works at the level of cells, so it made no difference. \n",
    "\n",
    "Our function made no difference, but compare for _sum_:"
   ]
  },
  {
   "cell_type": "code",
   "execution_count": null,
   "metadata": {},
   "outputs": [],
   "source": [
    "# the sum of the colums\n",
    "dataDF.apply(sum,axis=0)"
   ]
  },
  {
   "cell_type": "code",
   "execution_count": null,
   "metadata": {},
   "outputs": [],
   "source": [
    "# the sum of the rows\n",
    "dataDF.apply(sum,axis=1)"
   ]
  },
  {
   "cell_type": "markdown",
   "metadata": {},
   "source": [
    "Compare for min:"
   ]
  },
  {
   "cell_type": "code",
   "execution_count": null,
   "metadata": {},
   "outputs": [],
   "source": [
    "dataDF.apply(min) # axis=0 is the default, I can omit it."
   ]
  },
  {
   "cell_type": "code",
   "execution_count": null,
   "metadata": {},
   "outputs": [],
   "source": [
    "dataDF.apply(min,axis=1)"
   ]
  },
  {
   "cell_type": "markdown",
   "metadata": {},
   "source": [
    "Pandas has the function **applymap** to especifically apply a function to every cell of the data frame:"
   ]
  },
  {
   "cell_type": "code",
   "execution_count": null,
   "metadata": {},
   "outputs": [],
   "source": [
    "dataDF.applymap(double)"
   ]
  },
  {
   "cell_type": "markdown",
   "metadata": {},
   "source": [
    "You can have functions that operate at the cell level, or at the column (_Series_) level; _apply_ will work at both levels, in the particular axis of interest. _applymap_  works at the cell level for data frames as a whole, but not at the _Series_ level. Sometimes the difference is not obvious."
   ]
  },
  {
   "cell_type": "markdown",
   "metadata": {},
   "source": [
    "Just make sure what you have:"
   ]
  },
  {
   "cell_type": "code",
   "execution_count": null,
   "metadata": {},
   "outputs": [],
   "source": [
    "# This is a Series\n",
    "dataDF.numberA"
   ]
  },
  {
   "cell_type": "code",
   "execution_count": null,
   "metadata": {},
   "outputs": [],
   "source": [
    "# This is a Series\n",
    "dataDF['numberA']"
   ]
  },
  {
   "cell_type": "code",
   "execution_count": null,
   "metadata": {},
   "outputs": [],
   "source": [
    "# This is a data frame:\n",
    "dataDF[['numberA']]"
   ]
  },
  {
   "cell_type": "code",
   "execution_count": null,
   "metadata": {},
   "outputs": [],
   "source": [
    "# This is a Series\n",
    "dataDF.loc[:,'numberA']"
   ]
  },
  {
   "cell_type": "code",
   "execution_count": null,
   "metadata": {},
   "outputs": [],
   "source": [
    "# This is a data frame:\n",
    "dataDF.loc[:,['numberA']]"
   ]
  },
  {
   "cell_type": "code",
   "execution_count": null,
   "metadata": {},
   "outputs": [],
   "source": [
    "# This is a Series\n",
    "dataDF.iloc[:,0]"
   ]
  },
  {
   "cell_type": "code",
   "execution_count": null,
   "metadata": {},
   "outputs": [],
   "source": [
    "# This is a data frame:\n",
    "dataDF.iloc[:,[0]]"
   ]
  },
  {
   "cell_type": "markdown",
   "metadata": {},
   "source": [
    "____\n",
    "\n",
    "Solve the homework in a new Jupyter notebook, and then upload it to GitHub. Name the notebook as 'hw_functions'."
   ]
  },
  {
   "cell_type": "markdown",
   "metadata": {},
   "source": [
    "_____\n",
    "\n",
    "* [Go to page beginning](#beginning)\n",
    "* [Go to REPO in Github](https://github.com/EvansDataScience/ComputationalThinking_Gov_1)\n",
    "* [Go to Course schedule](https://evansdatascience.github.io/GovernanceAnalytics/)"
   ]
  }
 ],
 "metadata": {
  "anaconda-cloud": {},
  "hide_input": false,
  "kernelspec": {
   "display_name": "Python 3",
   "language": "python",
   "name": "python3"
  },
  "language_info": {
   "codemirror_mode": {
    "name": "ipython",
    "version": 3
   },
   "file_extension": ".py",
   "mimetype": "text/x-python",
   "name": "python",
   "nbconvert_exporter": "python",
   "pygments_lexer": "ipython3",
   "version": "3.7.1"
  }
 },
 "nbformat": 4,
 "nbformat_minor": 1
}
